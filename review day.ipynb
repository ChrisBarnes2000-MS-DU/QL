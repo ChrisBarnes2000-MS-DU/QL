{
 "cells": [
  {
   "cell_type": "code",
   "execution_count": 6,
   "metadata": {},
   "outputs": [
    {
     "name": "stdout",
     "output_type": "stream",
     "text": [
      "slope:\t\t 0.25163494428355404\n",
      "intercept:\t 0.7988012261753894\n",
      "r_value:\t 0.8323917528894436\n",
      "p_value:\t 3.391952640710616e-05\n",
      "std_err:\t 0.0432568020417479\n"
     ]
    }
   ],
   "source": [
    "import numpy as np\n",
    "from scipy import stats\n",
    "\n",
    "x = np.array([3.3,4.4,5.5,6.71,6.93,4.168,9.779,6.182,7.59,2.167,\n",
    "                         7.042,10.791,5.313,7.997,5.654,9.27,3.1])\n",
    "# Water Drinks in Litre\n",
    "y = np.array([1.7,2.76,2.09,3.19,1.694,1.573,3.366,2.596,2.53,1.221,\n",
    "                         2.827,3.465,1.65,2.904,2.42,2.94,1.3])\n",
    "\n",
    "slope, intercept, r_value, p_value, std_err = stats.linregress(x,y)\n",
    "\n",
    "print(\"slope:\\t\\t\" ,slope)\n",
    "print(\"intercept:\\t\", intercept)\n",
    "print(\"r_value:\\t\", r_value)\n",
    "print(\"p_value:\\t\", p_value)\n",
    "print(\"std_err:\\t\", std_err)"
   ]
  },
  {
   "cell_type": "code",
   "execution_count": 11,
   "metadata": {},
   "outputs": [
    {
     "name": "stdout",
     "output_type": "stream",
     "text": [
      "x_bar * y_bar:\t 14.739279647058822\n",
      "xy_bar:\t\t 16.118679058823524\n"
     ]
    }
   ],
   "source": [
    "x_bar = np.average(x)\n",
    "y_bar = np.average(y)\n",
    "xy_bar = np.average(x*y)\n",
    "\n",
    "\n",
    "print(\"x_bar * y_bar:\\t\", x_bar*y_bar)\n",
    "print(\"xy_bar:\\t\\t\", xy_bar)"
   ]
  },
  {
   "cell_type": "code",
   "execution_count": null,
   "metadata": {},
   "outputs": [],
   "source": []
  }
 ],
 "metadata": {
  "kernelspec": {
   "display_name": "Python 3",
   "language": "python",
   "name": "python3"
  },
  "language_info": {
   "codemirror_mode": {
    "name": "ipython",
    "version": 3
   },
   "file_extension": ".py",
   "mimetype": "text/x-python",
   "name": "python",
   "nbconvert_exporter": "python",
   "pygments_lexer": "ipython3",
   "version": "3.7.4"
  }
 },
 "nbformat": 4,
 "nbformat_minor": 2
}
