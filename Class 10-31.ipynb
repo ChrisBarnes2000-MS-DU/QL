{
 "cells": [
  {
   "cell_type": "code",
   "execution_count": 39,
   "metadata": {},
   "outputs": [
    {
     "name": "stdout",
     "output_type": "stream",
     "text": [
      "0.1596510432421609\n",
      "(0.1596510432421609, 1.6712557684682572e-06)\n"
     ]
    }
   ],
   "source": [
    "import pandas as pd\n",
    "import scipy.stats\n",
    "\n",
    "df = pd.read_csv('titanic.csv')\n",
    "\n",
    "#here is a function to calculate pearson's correlation coefficient\n",
    "def pearson_corr(x, y):\n",
    "    x_mean = np.mean(x)\n",
    "    y_mean = np.mean(y)\n",
    "    num = [(i - x_mean)*(j - y_mean) for i,j in zip(x,y)]\n",
    "    den_1 = [(i - x_mean)**2 for i in x]\n",
    "    den_2 = [(j - y_mean)**2 for j in y]\n",
    "    correlation_x_y = np.sum(num)/np.sqrt(np.sum(den_1))/np.sqrt(np.sum(den_2))\n",
    "    return correlation_x_y\n",
    "\n",
    "print(pearson_corr(df['Fare'], df['SibSp']))  # used to be Siblings/Spouses Aboard\n",
    "print(scipy.stats.pearsonr(df['Fare'], df['SibSp']))"
   ]
  },
  {
   "cell_type": "markdown",
   "metadata": {},
   "source": [
    "# R Value for data"
   ]
  },
  {
   "cell_type": "markdown",
   "metadata": {},
   "source": [
    "$ r=\\frac {\\sum_{i=1}^{n}(x-\\bar{x})(y-\\bar{y})} {\\sqrt{\\sum_{i=1}^{n}{(x-\\bar{x})^2}\\sum_{i=1}^{n}{(y-\\bar{y})^2}}}$"
   ]
  },
  {
   "cell_type": "code",
   "execution_count": 37,
   "metadata": {},
   "outputs": [
    {
     "ename": "TypeError",
     "evalue": "'numpy.float64' object is not callable",
     "output_type": "error",
     "traceback": [
      "\u001b[0;31m------------------------------------------------------------------------\u001b[0m",
      "\u001b[0;31mTypeError\u001b[0m                              Traceback (most recent call last)",
      "\u001b[0;32m<ipython-input-37-3383ff0a83e2>\u001b[0m in \u001b[0;36m<module>\u001b[0;34m\u001b[0m\n\u001b[1;32m     16\u001b[0m \u001b[0mxbar\u001b[0m \u001b[0;34m=\u001b[0m \u001b[0mnp\u001b[0m\u001b[0;34m.\u001b[0m\u001b[0mmean\u001b[0m\u001b[0;34m(\u001b[0m\u001b[0mx\u001b[0m\u001b[0;34m)\u001b[0m\u001b[0;34m\u001b[0m\u001b[0;34m\u001b[0m\u001b[0m\n\u001b[1;32m     17\u001b[0m \u001b[0mybar\u001b[0m \u001b[0;34m=\u001b[0m \u001b[0mnp\u001b[0m\u001b[0;34m.\u001b[0m\u001b[0mmean\u001b[0m\u001b[0;34m(\u001b[0m\u001b[0my\u001b[0m\u001b[0;34m)\u001b[0m\u001b[0;34m\u001b[0m\u001b[0;34m\u001b[0m\u001b[0m\n\u001b[0;32m---> 18\u001b[0;31m \u001b[0mn\u001b[0m \u001b[0;34m=\u001b[0m \u001b[0msum\u001b[0m\u001b[0;34m(\u001b[0m\u001b[0;34m[\u001b[0m\u001b[0;34m(\u001b[0m\u001b[0;34m(\u001b[0m\u001b[0mi\u001b[0m\u001b[0;34m-\u001b[0m\u001b[0mxbar\u001b[0m\u001b[0;34m)\u001b[0m\u001b[0;34m(\u001b[0m\u001b[0mj\u001b[0m\u001b[0;34m-\u001b[0m\u001b[0mybar\u001b[0m\u001b[0;34m)\u001b[0m\u001b[0;34m)\u001b[0m \u001b[0;32mfor\u001b[0m \u001b[0mi\u001b[0m\u001b[0;34m,\u001b[0m\u001b[0mj\u001b[0m \u001b[0;32min\u001b[0m \u001b[0mzip\u001b[0m\u001b[0;34m(\u001b[0m\u001b[0mx\u001b[0m\u001b[0;34m,\u001b[0m\u001b[0my\u001b[0m\u001b[0;34m)\u001b[0m\u001b[0;34m]\u001b[0m\u001b[0;34m)\u001b[0m\u001b[0;34m\u001b[0m\u001b[0;34m\u001b[0m\u001b[0m\n\u001b[0m\u001b[1;32m     19\u001b[0m \u001b[0md1\u001b[0m \u001b[0;34m=\u001b[0m \u001b[0msum\u001b[0m\u001b[0;34m(\u001b[0m\u001b[0;34m[\u001b[0m\u001b[0;34m(\u001b[0m\u001b[0mi\u001b[0m\u001b[0;34m-\u001b[0m\u001b[0mxbar\u001b[0m\u001b[0;34m)\u001b[0m\u001b[0;34m**\u001b[0m\u001b[0;36m2\u001b[0m \u001b[0;32mfor\u001b[0m \u001b[0mi\u001b[0m \u001b[0;32min\u001b[0m \u001b[0mx\u001b[0m\u001b[0;34m]\u001b[0m\u001b[0;34m)\u001b[0m\u001b[0;34m\u001b[0m\u001b[0;34m\u001b[0m\u001b[0m\n\u001b[1;32m     20\u001b[0m \u001b[0md2\u001b[0m \u001b[0;34m=\u001b[0m \u001b[0msum\u001b[0m\u001b[0;34m(\u001b[0m\u001b[0;34m[\u001b[0m\u001b[0;34m(\u001b[0m\u001b[0mj\u001b[0m\u001b[0;34m-\u001b[0m\u001b[0mybar\u001b[0m\u001b[0;34m)\u001b[0m\u001b[0;34m**\u001b[0m\u001b[0;36m2\u001b[0m \u001b[0;32mfor\u001b[0m \u001b[0mj\u001b[0m \u001b[0;32min\u001b[0m \u001b[0my\u001b[0m\u001b[0;34m]\u001b[0m\u001b[0;34m)\u001b[0m\u001b[0;34m\u001b[0m\u001b[0;34m\u001b[0m\u001b[0m\n",
      "\u001b[0;32m<ipython-input-37-3383ff0a83e2>\u001b[0m in \u001b[0;36m<listcomp>\u001b[0;34m(.0)\u001b[0m\n\u001b[1;32m     16\u001b[0m \u001b[0mxbar\u001b[0m \u001b[0;34m=\u001b[0m \u001b[0mnp\u001b[0m\u001b[0;34m.\u001b[0m\u001b[0mmean\u001b[0m\u001b[0;34m(\u001b[0m\u001b[0mx\u001b[0m\u001b[0;34m)\u001b[0m\u001b[0;34m\u001b[0m\u001b[0;34m\u001b[0m\u001b[0m\n\u001b[1;32m     17\u001b[0m \u001b[0mybar\u001b[0m \u001b[0;34m=\u001b[0m \u001b[0mnp\u001b[0m\u001b[0;34m.\u001b[0m\u001b[0mmean\u001b[0m\u001b[0;34m(\u001b[0m\u001b[0my\u001b[0m\u001b[0;34m)\u001b[0m\u001b[0;34m\u001b[0m\u001b[0;34m\u001b[0m\u001b[0m\n\u001b[0;32m---> 18\u001b[0;31m \u001b[0mn\u001b[0m \u001b[0;34m=\u001b[0m \u001b[0msum\u001b[0m\u001b[0;34m(\u001b[0m\u001b[0;34m[\u001b[0m\u001b[0;34m(\u001b[0m\u001b[0;34m(\u001b[0m\u001b[0mi\u001b[0m\u001b[0;34m-\u001b[0m\u001b[0mxbar\u001b[0m\u001b[0;34m)\u001b[0m\u001b[0;34m(\u001b[0m\u001b[0mj\u001b[0m\u001b[0;34m-\u001b[0m\u001b[0mybar\u001b[0m\u001b[0;34m)\u001b[0m\u001b[0;34m)\u001b[0m \u001b[0;32mfor\u001b[0m \u001b[0mi\u001b[0m\u001b[0;34m,\u001b[0m\u001b[0mj\u001b[0m \u001b[0;32min\u001b[0m \u001b[0mzip\u001b[0m\u001b[0;34m(\u001b[0m\u001b[0mx\u001b[0m\u001b[0;34m,\u001b[0m\u001b[0my\u001b[0m\u001b[0;34m)\u001b[0m\u001b[0;34m]\u001b[0m\u001b[0;34m)\u001b[0m\u001b[0;34m\u001b[0m\u001b[0;34m\u001b[0m\u001b[0m\n\u001b[0m\u001b[1;32m     19\u001b[0m \u001b[0md1\u001b[0m \u001b[0;34m=\u001b[0m \u001b[0msum\u001b[0m\u001b[0;34m(\u001b[0m\u001b[0;34m[\u001b[0m\u001b[0;34m(\u001b[0m\u001b[0mi\u001b[0m\u001b[0;34m-\u001b[0m\u001b[0mxbar\u001b[0m\u001b[0;34m)\u001b[0m\u001b[0;34m**\u001b[0m\u001b[0;36m2\u001b[0m \u001b[0;32mfor\u001b[0m \u001b[0mi\u001b[0m \u001b[0;32min\u001b[0m \u001b[0mx\u001b[0m\u001b[0;34m]\u001b[0m\u001b[0;34m)\u001b[0m\u001b[0;34m\u001b[0m\u001b[0;34m\u001b[0m\u001b[0m\n\u001b[1;32m     20\u001b[0m \u001b[0md2\u001b[0m \u001b[0;34m=\u001b[0m \u001b[0msum\u001b[0m\u001b[0;34m(\u001b[0m\u001b[0;34m[\u001b[0m\u001b[0;34m(\u001b[0m\u001b[0mj\u001b[0m\u001b[0;34m-\u001b[0m\u001b[0mybar\u001b[0m\u001b[0;34m)\u001b[0m\u001b[0;34m**\u001b[0m\u001b[0;36m2\u001b[0m \u001b[0;32mfor\u001b[0m \u001b[0mj\u001b[0m \u001b[0;32min\u001b[0m \u001b[0my\u001b[0m\u001b[0;34m]\u001b[0m\u001b[0;34m)\u001b[0m\u001b[0;34m\u001b[0m\u001b[0;34m\u001b[0m\u001b[0m\n",
      "\u001b[0;31mTypeError\u001b[0m: 'numpy.float64' object is not callable"
     ]
    }
   ],
   "source": [
    "import numpy as np\n",
    "# import math\n",
    "\n",
    "# def r(x, y):\n",
    "#     x_bar = average(x_list)\n",
    "#     y_bar = average(y_list)\n",
    "#     n = len(x)\n",
    "#     xy = [((x[i]-x_bar)*(y[i]-y_bar)) for i in range(n)]\n",
    "#     top = sum(xy)\n",
    "#     bottom = math.sqrt(sum((x[i]-x_bar)^2)(sum(y[i]-y_bar)^2)) for i in range(n)]\n",
    "#     return top/bottom\n",
    " \n",
    "x = [1,1,1]\n",
    "y = [1,1,1]\n",
    "\n",
    "xbar = np.mean(x)\n",
    "ybar = np.mean(y)\n",
    "n = sum([((i-xbar)(j-ybar)) for i,j in zip(x,y)])\n",
    "d1 = sum([(i-xbar)**2 for i in x])\n",
    "d2 = sum([(j-ybar)**2 for j in y])\n",
    "\n",
    "r = n/np.sqrt(d1)*np.sqrt(d2)\n",
    "\n",
    "print(r)"
   ]
  },
  {
   "cell_type": "markdown",
   "metadata": {},
   "source": [
    "# Bar Chart"
   ]
  },
  {
   "cell_type": "code",
   "execution_count": 48,
   "metadata": {
    "scrolled": true
   },
   "outputs": [
    {
     "ename": "ValueError",
     "evalue": "'Beverage' is not in list",
     "output_type": "error",
     "traceback": [
      "\u001b[0;31m------------------------------------------------------------------------\u001b[0m",
      "\u001b[0;31mValueError\u001b[0m                             Traceback (most recent call last)",
      "\u001b[0;32m<ipython-input-48-e46aa3824f29>\u001b[0m in \u001b[0;36m<module>\u001b[0;34m\u001b[0m\n\u001b[1;32m      9\u001b[0m \u001b[0;34m\u001b[0m\u001b[0m\n\u001b[1;32m     10\u001b[0m     \u001b[0;31m#get the index that corresponds to the information we are interested in\u001b[0m\u001b[0;34m\u001b[0m\u001b[0;34m\u001b[0m\u001b[0;34m\u001b[0m\u001b[0m\n\u001b[0;32m---> 11\u001b[0;31m     \u001b[0mdrink_category_index\u001b[0m \u001b[0;34m=\u001b[0m \u001b[0mheaders\u001b[0m\u001b[0;34m.\u001b[0m\u001b[0mindex\u001b[0m\u001b[0;34m(\u001b[0m\u001b[0;34m\"Beverage\"\u001b[0m\u001b[0;34m)\u001b[0m\u001b[0;34m\u001b[0m\u001b[0;34m\u001b[0m\u001b[0m\n\u001b[0m\u001b[1;32m     12\u001b[0m     \u001b[0msugars_index\u001b[0m \u001b[0;34m=\u001b[0m \u001b[0mheaders\u001b[0m\u001b[0;34m.\u001b[0m\u001b[0mindex\u001b[0m\u001b[0;34m(\u001b[0m\u001b[0;34m\"Sugars (g)\"\u001b[0m\u001b[0;34m)\u001b[0m\u001b[0;34m\u001b[0m\u001b[0;34m\u001b[0m\u001b[0m\n\u001b[1;32m     13\u001b[0m \u001b[0;34m\u001b[0m\u001b[0m\n",
      "\u001b[0;31mValueError\u001b[0m: 'Beverage' is not in list"
     ]
    }
   ],
   "source": [
    "import csv #the csv library\n",
    "import matplotlib.pyplot as plt #The visualization library\n",
    "import numpy as np #provides math functions\n",
    "\n",
    "with open('starbucks_drinkMenu_expanded.csv') as csvfile: #open the file\n",
    "    #creates a csv reader object which stores the lines of the files in lists and lets us iterate over them\n",
    "    drinksreader = csv.reader(csvfile) \n",
    "    headers = next(drinksreader, None) #skip over the headers\n",
    "    \n",
    "    #get the index that corresponds to the information we are interested in\n",
    "    drink_category_index = headers.index(\"Beverage\")\n",
    "    sugars_index = headers.index(\"Sugars (g)\")\n",
    "    \n",
    "    #This is where we will store the sugar info for our different beverage types\n",
    "    sugar_in_lattes = []\n",
    "    sugar_in_teas = []\n",
    "    sugar_in_mochas = []\n",
    "    \n",
    "    for row in drinksreader:\n",
    "        drink_category = row[drink_category_index]\n",
    "        sugar_grams = row[sugars_index]\n",
    "        if 'Latte' in drink_category:\n",
    "            sugar_in_lattes.append(float(sugar_grams))\n",
    "        if 'Tea' in drink_category:\n",
    "            sugar_in_teas.append(float(sugar_grams))\n",
    "        if 'Mocha' in drink_category:\n",
    "            sugar_in_mochas.append(float(sugar_grams))\n",
    "        \n",
    "    \n",
    "    beverage_categories = [\"Latte\", 'Tea', 'Mocha']\n",
    "    #average the sugar content\n",
    "    average_sugar_in_lattes = np.mean(sugar_in_lattes)\n",
    "    average_sugar_in_teas = np.mean(sugar_in_teas)\n",
    "    average_sugar_in_mochas = np.mean(sugar_in_mochas)\n",
    "    \n",
    "    average_sugars = [average_sugar_in_lattes, average_sugar_in_teas, average_sugar_in_mochas]\n",
    "    \n",
    "    vertical_bar_chart_figure = plt.figure() #The outer container \n",
    "    vertical_bar_chart_axes = vertical_bar_chart_figure.add_axes([0.1, 0.2, 0.8, 0.9]) #The actual chart inside the figure\n",
    "    #For more explanation: https://heartbeat.fritz.ai/introduction-to-matplotlib-data-visualization-in-python-d9143287ae39\n",
    "    \n",
    "    #Create the bar chart using the bar() method\n",
    "    #The color argument lets us specify a list of colors for each of the bars\n",
    "    vertical_bar_chart_axes.bar(beverage_categories, average_sugars, color=[\"pink\", \"blue\", \"green\"])\n",
    "    \n",
    "    #Let's customize our chart!\n",
    "    \n",
    "    #Give it a title\n",
    "    vertical_bar_chart_axes.set_title('Vertical bar chart of average sugar in grams for different types of beverages on the Starbucks menu')\n",
    "    \n",
    "    #Always label your axis or no one will be able to understand what the chart is showing\n",
    "    vertical_bar_chart_axes.set_ylabel('Average sugar content in grams')\n",
    "    vertical_bar_chart_axes.set_xlabel('Beverage type')\n",
    "    \n",
    "    #How would we create a horizontal bar chart? Use the barh() method!\n",
    "    \n",
    "    horizontal_bar_chart_figure = plt.figure() #The outer container \n",
    "    horizontal_bar_chart_axes = horizontal_bar_chart_figure.add_axes([0.1, 0.2, 0.8, 0.9]) #The actual chart inside the figure\n",
    "    #For more explanation: https://heartbeat.fritz.ai/introduction-to-matplotlib-data-visualization-in-python-d9143287ae39\n",
    "    \n",
    "    #Create the bar chart using the barh() method\n",
    "    #The color argument lets us specify a list of colors for each of the bars\n",
    "    horizontal_bar_chart_axes.barh(beverage_categories, average_sugars, color=[\"pink\", \"blue\", \"green\"])\n",
    "    \n",
    "    #Let's customize our chart!\n",
    "    \n",
    "    #Give it a title\n",
    "    horizontal_bar_chart_axes.set_title('Horixontal bar chart of average sugar in grams for different types of beverages on the Starbucks menu')\n",
    "    \n",
    "    #Always label your axis or no one will be able to understand what the chart is showing\n",
    "    horizontal_bar_chart_axes.set_ylabel('Average sugar content in grams')\n",
    "    horizontal_bar_chart_axes.set_xlabel('Beverage type')"
   ]
  },
  {
   "cell_type": "code",
   "execution_count": null,
   "metadata": {},
   "outputs": [],
   "source": []
  }
 ],
 "metadata": {
  "kernelspec": {
   "display_name": "Python 3",
   "language": "python",
   "name": "python3"
  },
  "language_info": {
   "codemirror_mode": {
    "name": "ipython",
    "version": 3
   },
   "file_extension": ".py",
   "mimetype": "text/x-python",
   "name": "python",
   "nbconvert_exporter": "python",
   "pygments_lexer": "ipython3",
   "version": "3.7.4"
  }
 },
 "nbformat": 4,
 "nbformat_minor": 2
}
