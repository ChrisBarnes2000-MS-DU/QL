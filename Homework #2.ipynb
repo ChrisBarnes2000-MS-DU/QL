{
 "cells": [
  {
   "cell_type": "markdown",
   "metadata": {},
   "source": [
    "# Problem To Solve\n",
    "We have a coin that we want to flip. We know the following about the coin:\n",
    "\n",
    "* The probability of getting a 'Head' is $P(H) = a$\n",
    "* The probability of getting a 'Tail' is $P(T) = 1 - a$\n",
    "\n",
    "$a$ can be any decimal number between 0 and 1. For example, if $a = 0.5$, then it is a fair coin.\n",
    "\n",
    "**Given the above probabilities for $P(H)$ and $P(T)$, if we toss this coin three times, what is the probability that we get some combination of two heads and one tail?**"
   ]
  },
  {
   "cell_type": "code",
   "execution_count": 7,
   "metadata": {},
   "outputs": [
    {
     "name": "stdout",
     "output_type": "stream",
     "text": [
      "0.0189\n"
     ]
    }
   ],
   "source": [
    "def verify_head(prob_head, num_flips):\n",
    "    prob_HHT = prob_head * prob_head * (1-prob_head)\n",
    "    return 3 * (prob_HHT/num_flips) * 100\n",
    "\n",
    "print(verify_head(0.3, 1000))"
   ]
  },
  {
   "cell_type": "markdown",
   "metadata": {},
   "source": [
    "## Part 2\n",
    "Write a function verify_head that we will use to verify if your paper solution is correct. Your function should have two parameters:\n",
    "\n",
    "* prob_head: Probability of getting a 'Head' (type: float)\n",
    "* num_flips: Number of times we flip the coin (type: integer)\n",
    "\n",
    "Your function should then return the probability (float) of tossing a coin num_flips times and getting some combination of two heads and one tail, given that we know the probability of getting a heads is prob_head\n",
    "\n",
    "## Requirements\n",
    "To pass this assignment, you must fulfuill the following requirements:\n",
    "\n",
    "1. You must upload a picture of your own, original work showing how you calculated the probability of getting two heads\n",
    "2. Your function must take in two parameters: the probability of getting Heads, and the number of flips.\n",
    "3. Your function must return the correct decimal number (float) that corresponds to the probability of getting the input number of heads based on the input number of trials\n",
    "    a. Note that your return value may differ slightly from the hand-calculated value, but they should be at least the same for the first 1-2 decimals if you use a num_flips value between 1000-2000"
   ]
  },
  {
   "cell_type": "markdown",
   "metadata": {},
   "source": [
    "### Hints:\n",
    "* Using a num_flips of 1000 (or higher!) is a good test number, as the probability will better align with what you get in your hand-calculated value\n",
    "* For Part 2, we can generate events with given probabilities as follows. Think about how you could use this for your function:"
   ]
  },
  {
   "cell_type": "code",
   "execution_count": 1,
   "metadata": {},
   "outputs": [
    {
     "name": "stdout",
     "output_type": "stream",
     "text": [
      "['H']\n",
      "['T']\n",
      "['T']\n",
      "['H']\n",
      "['T']\n",
      "['T']\n",
      "['T']\n",
      "['T']\n",
      "['T']\n",
      "['T']\n"
     ]
    }
   ],
   "source": [
    "from random import choices\n",
    "\n",
    "event = ['H', 'T']\n",
    "\n",
    "# Here we are saying the probability of getting Heads is 0.3,\n",
    "# and that the probability of getting Tails is 0.7\n",
    "weights = [0.3, 0.7]\n",
    "\n",
    "for _ in range(10):\n",
    "    print(choices(event, weights))\n",
    "    \n",
    "# Look at the below print statement.\n",
    "# The number of Heads should be roughly 30%\n",
    "# and the number of Tails should be roughly 70%\n",
    "# You can change the range above to get more values,\n",
    "# and see the percentage increase"
   ]
  },
  {
   "cell_type": "code",
   "execution_count": null,
   "metadata": {},
   "outputs": [],
   "source": []
  }
 ],
 "metadata": {
  "kernelspec": {
   "display_name": "Python 3",
   "language": "python",
   "name": "python3"
  },
  "language_info": {
   "codemirror_mode": {
    "name": "ipython",
    "version": 3
   },
   "file_extension": ".py",
   "mimetype": "text/x-python",
   "name": "python",
   "nbconvert_exporter": "python",
   "pygments_lexer": "ipython3",
   "version": "3.7.4"
  }
 },
 "nbformat": 4,
 "nbformat_minor": 2
}
