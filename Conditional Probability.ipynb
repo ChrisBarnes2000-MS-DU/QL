{
 "cells": [
  {
   "cell_type": "code",
   "execution_count": 1,
   "metadata": {},
   "outputs": [],
   "source": [
    "spam = {\n",
    "    \"password\": 2,\n",
    "    \"review\": 1,\n",
    "    \"send\": 3,\n",
    "    \"us\": 3,\n",
    "    \"your\": 3,\n",
    "    \"account\": 1\n",
    "}"
   ]
  },
  {
   "cell_type": "markdown",
   "metadata": {},
   "source": [
    "$P(password \\mid spam) = 2/(2+1+3+3+3+1) = 2/13$"
   ]
  },
  {
   "cell_type": "code",
   "execution_count": 7,
   "metadata": {},
   "outputs": [
    {
     "name": "stdout",
     "output_type": "stream",
     "text": [
      "0.15384615384615385\n"
     ]
    }
   ],
   "source": [
    "print((spam[\"password\"]/sum(spam.values())))"
   ]
  },
  {
   "cell_type": "code",
   "execution_count": 14,
   "metadata": {},
   "outputs": [],
   "source": [
    "ham = {\n",
    "    \"password\": 1,\n",
    "    \"review\": 2,\n",
    "    \"send\": 1,\n",
    "    \"us\": 1,\n",
    "    \"your\": 2,\n",
    "    \"account\": 0\n",
    "}"
   ]
  },
  {
   "cell_type": "code",
   "execution_count": 15,
   "metadata": {},
   "outputs": [
    {
     "name": "stdout",
     "output_type": "stream",
     "text": [
      "0.14285714285714285\n"
     ]
    }
   ],
   "source": [
    "print((ham[\"password\"]/sum(ham.values())))"
   ]
  },
  {
   "cell_type": "code",
   "execution_count": 24,
   "metadata": {},
   "outputs": [
    {
     "name": "stdout",
     "output_type": "stream",
     "text": [
      "0.15018315018315018\n",
      "0.6829268292682927\n"
     ]
    }
   ],
   "source": [
    "p_ps = float(2/13)\n",
    "p_s = float(4/6)\n",
    "p_ph = float(1/6)\n",
    "p_h = float(2/7)\n",
    "\n",
    "p_p = p_ps*p_s + p_ph*p_h\n",
    "\n",
    "print(p_p)\n",
    "\n",
    "print((p_ps*p_s) / p_p)"
   ]
  },
  {
   "cell_type": "code",
   "execution_count": null,
   "metadata": {},
   "outputs": [],
   "source": []
  },
  {
   "cell_type": "code",
   "execution_count": 61,
   "metadata": {},
   "outputs": [
    {
     "name": "stdout",
     "output_type": "stream",
     "text": [
      "Word, Probability in email\n",
      "password 0.1502\n",
      "review 0.1465\n",
      "send 0.2015\n",
      "us 0.2015\n",
      "your 0.2491\n",
      "account 0.0513\n",
      "LS1: \n",
      " [[0.15384615384615385, 0.14285714285714285], [0.07692307692307693, 0.2857142857142857], [0.23076923076923078, 0.14285714285714285], [0.23076923076923078, 0.14285714285714285], [0.23076923076923078, 0.2857142857142857], [0.07692307692307693, 0.0]]\n"
     ]
    }
   ],
   "source": [
    "p_spam = 4/6\n",
    "p_ham = 2/6\n",
    "ls1 = []\n",
    "ls2 = []    \n",
    "print(\"Word, Probability in email\")\n",
    "for i in spam:\n",
    "    p_word_given_spam = spam[i]/sum(spam.values())\n",
    "    p_word_given_ham = ham[i]/sum(ham.values())\n",
    "    \n",
    "    ls1.append([p_word_given_spam, p_word_given_ham])\n",
    "    \n",
    "    p_word = p_word_given_spam*p_spam + p_word_given_ham*p_ham\n",
    "    \n",
    "#     ls2.append(p_word_given_spam*p_spam)\n",
    "    print(i, \"%.4f\" %p_word)\n",
    "    \n",
    "print(\"LS1: \\n\", ls1)"
   ]
  },
  {
   "cell_type": "code",
   "execution_count": null,
   "metadata": {},
   "outputs": [],
   "source": []
  }
 ],
 "metadata": {
  "kernelspec": {
   "display_name": "Python 3",
   "language": "python",
   "name": "python3"
  },
  "language_info": {
   "codemirror_mode": {
    "name": "ipython",
    "version": 3
   },
   "file_extension": ".py",
   "mimetype": "text/x-python",
   "name": "python",
   "nbconvert_exporter": "python",
   "pygments_lexer": "ipython3",
   "version": "3.7.6"
  }
 },
 "nbformat": 4,
 "nbformat_minor": 2
}
