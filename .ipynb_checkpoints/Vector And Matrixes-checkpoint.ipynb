{
 "cells": [
  {
   "cell_type": "code",
   "execution_count": 9,
   "metadata": {},
   "outputs": [
    {
     "name": "stdout",
     "output_type": "stream",
     "text": [
      "_Matrix A_\n",
      " [[1 2]\n",
      " [0 1]\n",
      " [2 3]]\n",
      "_Vector V_\n",
      " [[2]\n",
      " [6]]\n",
      "_Dot product of A and V_\n",
      " [[14]\n",
      " [ 6]\n",
      " [22]]\n"
     ]
    }
   ],
   "source": [
    "import numpy as np\n",
    "A = np.array([[1,2],[0,1],[2,3]])\n",
    "V = np.array([[2],[6]])\n",
    "print(\"_Matrix A_\\n\", A)\n",
    "print(\"_Vector V_\\n\", V)\n",
    "print(\"_Dot product of A and V_\\n\", np.dot(A,V))"
   ]
  },
  {
   "cell_type": "code",
   "execution_count": 11,
   "metadata": {},
   "outputs": [
    {
     "name": "stdout",
     "output_type": "stream",
     "text": [
      "_Vector B_\n",
      " [[5]\n",
      " [7]]\n",
      "_Dot product of A and B_\n",
      " [[19]\n",
      " [ 7]\n",
      " [31]]\n"
     ]
    }
   ],
   "source": [
    "B = np.array([[5],[7]])\n",
    "print(\"_Vector B_\\n\", B)\n",
    "print(\"_Dot product of A and B_\\n\", np.dot(A,B))"
   ]
  },
  {
   "cell_type": "code",
   "execution_count": 17,
   "metadata": {},
   "outputs": [
    {
     "name": "stdout",
     "output_type": "stream",
     "text": [
      "_Matrix A_\n",
      " [[1 2]\n",
      " [0 1]\n",
      " [2 3]]\n",
      "_Matrix C_\n",
      " [[2 5]\n",
      " [6 7]]\n",
      "_Dot product of A and C_\n",
      " [[14 19]\n",
      " [ 6  7]\n",
      " [22 31]]\n"
     ]
    }
   ],
   "source": [
    "C = np.array([[2,5],[6,7]])\n",
    "print(\"_Matrix A_\\n\", A)\n",
    "print(\"_Matrix C_\\n\", C)\n",
    "print(\"_Dot product of A and C_\\n\", np.dot(A,C))"
   ]
  },
  {
   "cell_type": "code",
   "execution_count": 24,
   "metadata": {},
   "outputs": [
    {
     "ename": "ValueError",
     "evalue": "shapes (2,2) and (3,2) not aligned: 2 (dim 1) != 3 (dim 0)",
     "output_type": "error",
     "traceback": [
      "\u001b[0;31m---------------------------------------------------------------------------\u001b[0m",
      "\u001b[0;31mValueError\u001b[0m                                Traceback (most recent call last)",
      "\u001b[0;32m<ipython-input-24-e375380199f4>\u001b[0m in \u001b[0;36m<module>\u001b[0;34m\u001b[0m\n\u001b[0;32m----> 1\u001b[0;31m \u001b[0mprint\u001b[0m\u001b[0;34m(\u001b[0m\u001b[0mnp\u001b[0m\u001b[0;34m.\u001b[0m\u001b[0mdot\u001b[0m\u001b[0;34m(\u001b[0m\u001b[0mC\u001b[0m\u001b[0;34m,\u001b[0m \u001b[0mA\u001b[0m\u001b[0;34m)\u001b[0m\u001b[0;34m)\u001b[0m\u001b[0;34m\u001b[0m\u001b[0;34m\u001b[0m\u001b[0m\n\u001b[0m",
      "\u001b[0;32m<__array_function__ internals>\u001b[0m in \u001b[0;36mdot\u001b[0;34m(*args, **kwargs)\u001b[0m\n",
      "\u001b[0;31mValueError\u001b[0m: shapes (2,2) and (3,2) not aligned: 2 (dim 1) != 3 (dim 0)"
     ]
    }
   ],
   "source": [
    "print(np.dot(C, A))"
   ]
  },
  {
   "cell_type": "code",
   "execution_count": 28,
   "metadata": {},
   "outputs": [
    {
     "name": "stdout",
     "output_type": "stream",
     "text": [
      "_Matrix new_A_\n",
      " [[1 2]\n",
      " [0 1]]\n",
      "_Matrix C_\n",
      " [[2 5]\n",
      " [6 7]]\n",
      "_Dot product of new_A and C_\n",
      " [[ 2  9]\n",
      " [ 6 19]]\n"
     ]
    }
   ],
   "source": [
    "new_A = np.array([[1,2],[0,1]])\n",
    "print(\"_Matrix new_A_\\n\", new_A)\n",
    "print(\"_Matrix C_\\n\", C)\n",
    "print(\"_Dot product of new_A and C_\\n\", np.dot(C, new_A))"
   ]
  },
  {
   "cell_type": "code",
   "execution_count": 34,
   "metadata": {},
   "outputs": [
    {
     "name": "stdout",
     "output_type": "stream",
     "text": [
      "_Matrix A_\n",
      " [[1 2]\n",
      " [0 1]]\n",
      "_Matrix Identity_\n",
      " [[1 0]\n",
      " [0 1]]\n",
      "_Dot product of new_A*Identity == Identity*new_A is Ture _\n",
      " [[ True  True]\n",
      " [ True  True]]\n"
     ]
    }
   ],
   "source": [
    "Identity = np.array([[1,0],[0,1]])\n",
    "print(\"_Matrix A_\\n\", new_A)\n",
    "print(\"_Matrix Identity_\\n\", Identity)\n",
    "print(\"_Dot product of new_A*Identity == Identity*new_A is Ture _\\n\", np.dot(Identity, new_A) == np.dot(new_A, Identity))"
   ]
  },
  {
   "cell_type": "code",
   "execution_count": 36,
   "metadata": {},
   "outputs": [
    {
     "name": "stdout",
     "output_type": "stream",
     "text": [
      "[1.629196532, 1.905994966, 2.1827934, 2.4872716774, 2.5426313642, 1.84761565992, 3.25953930826, 2.3544084290800003, 2.7087104245999996, 1.34409414498, 2.57081447748, 3.51419386754, 2.13573766622, 2.81112584518, 2.2215451807599997, 3.1314571237999997, 1.578869544]\n"
     ]
    }
   ],
   "source": [
    "import matplotlib.pyplot as plt\n",
    "\n",
    "# Running Distance in Mile\n",
    "x = np.array([3.3,4.4,5.5,6.71,6.93,4.168,9.779,6.182,7.59,2.167,\n",
    "                         7.042,10.791,5.313,7.997,5.654,9.27,3.1])\n",
    "\n",
    "# Water Drinks in Litre\n",
    "y = np.array([1.7,2.76,2.09,3.19,1.694,1.573,3.366,2.596,2.53,1.221,\n",
    "                         2.827,3.465,1.65,2.904,2.42,2.94,1.3])\n",
    "\n",
    "w1 = 0.25163494 \n",
    "w0 = 0.79880123 \n",
    "y_pred = [w1*i + w0 for i in x]\n",
    "print(y_pred)"
   ]
  },
  {
   "cell_type": "code",
   "execution_count": 50,
   "metadata": {},
   "outputs": [
    {
     "name": "stdout",
     "output_type": "stream",
     "text": [
      "[[ 3.3    4.4    5.5    6.71   6.93   4.168  9.779  6.182  7.59   2.167\n",
      "   7.042 10.791  5.313  7.997  5.654  9.27   3.1  ]\n",
      " [ 1.     1.     1.     1.     1.     1.     1.     1.     1.     1.\n",
      "   1.     1.     1.     1.     1.     1.     1.   ]]\n"
     ]
    }
   ],
   "source": [
    "# print(np.ones((len(x), 1)))\n",
    "# print(np.transpose([x]))\n",
    "# Concatenate two matrix column-wise \n",
    "X = np.concatenate((np.transpose([x]), np.ones((len(x), 1))), axis=1)\n",
    "# print(X)\n",
    "print(X.T)"
   ]
  },
  {
   "cell_type": "code",
   "execution_count": 38,
   "metadata": {},
   "outputs": [],
   "source": [
    "w = np.array([w1, w0])"
   ]
  },
  {
   "cell_type": "code",
   "execution_count": 39,
   "metadata": {},
   "outputs": [
    {
     "data": {
      "text/plain": [
       "array([1.62919653, 1.90599497, 2.1827934 , 2.48727168, 2.54263136,\n",
       "       1.84761566, 3.25953931, 2.35440843, 2.70871042, 1.34409414,\n",
       "       2.57081448, 3.51419387, 2.13573767, 2.81112585, 2.22154518,\n",
       "       3.13145712, 1.57886954])"
      ]
     },
     "execution_count": 39,
     "metadata": {},
     "output_type": "execute_result"
    }
   ],
   "source": [
    "np.dot(X, w)"
   ]
  },
  {
   "cell_type": "code",
   "execution_count": 53,
   "metadata": {},
   "outputs": [
    {
     "name": "stdout",
     "output_type": "stream",
     "text": [
      "[[1 2 3]\n",
      " [4 5 6]]\n",
      "_transposed_\n",
      " [[1 4]\n",
      " [2 5]\n",
      " [3 6]]\n"
     ]
    }
   ],
   "source": [
    "T = np.array([[1,2,3],[4,5,6]])\n",
    "print(T)\n",
    "print(\"_transposed_\\n\", T.T)"
   ]
  },
  {
   "cell_type": "code",
   "execution_count": 54,
   "metadata": {},
   "outputs": [
    {
     "data": {
      "text/plain": [
       "5.0"
      ]
     },
     "execution_count": 54,
     "metadata": {},
     "output_type": "execute_result"
    }
   ],
   "source": [
    "from numpy import linalg as LA\n",
    "v = np.array([3, 4])\n",
    "LA.norm(v)"
   ]
  },
  {
   "cell_type": "code",
   "execution_count": 55,
   "metadata": {},
   "outputs": [
    {
     "data": {
      "text/plain": [
       "5.0"
      ]
     },
     "execution_count": 55,
     "metadata": {},
     "output_type": "execute_result"
    }
   ],
   "source": [
    "v = np.array([3, 4])\n",
    "np.sqrt(np.dot(v,v.T))"
   ]
  },
  {
   "cell_type": "code",
   "execution_count": 56,
   "metadata": {},
   "outputs": [
    {
     "name": "stdout",
     "output_type": "stream",
     "text": [
      "4.242640687119285\n"
     ]
    }
   ],
   "source": [
    "u = np.array([3, 4])\n",
    "v = np.array([6, 1])\n",
    "print(LA.norm(u - v))"
   ]
  },
  {
   "cell_type": "code",
   "execution_count": 57,
   "metadata": {},
   "outputs": [
    {
     "name": "stdout",
     "output_type": "stream",
     "text": [
      "1.4142135623730951\n",
      "7.280109889280518\n",
      "6.082762530298219\n"
     ]
    }
   ],
   "source": [
    "u = np.array([1, 1])\n",
    "v = np.array([2, 2])\n",
    "r = np.array([3, 8])\n",
    "print(LA.norm(u - v))\n",
    "print(LA.norm(u - r))\n",
    "print(LA.norm(v - r))"
   ]
  },
  {
   "cell_type": "code",
   "execution_count": null,
   "metadata": {},
   "outputs": [],
   "source": []
  }
 ],
 "metadata": {
  "kernelspec": {
   "display_name": "Python 3",
   "language": "python",
   "name": "python3"
  },
  "language_info": {
   "codemirror_mode": {
    "name": "ipython",
    "version": 3
   },
   "file_extension": ".py",
   "mimetype": "text/x-python",
   "name": "python",
   "nbconvert_exporter": "python",
   "pygments_lexer": "ipython3",
   "version": "3.7.4"
  }
 },
 "nbformat": 4,
 "nbformat_minor": 2
}
