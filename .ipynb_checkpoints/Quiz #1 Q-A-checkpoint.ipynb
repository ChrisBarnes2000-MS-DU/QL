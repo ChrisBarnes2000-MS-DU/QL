{
 "cells": [
  {
   "cell_type": "markdown",
   "metadata": {},
   "source": [
    "# Quiz #1 Q/A"
   ]
  },
  {
   "cell_type": "markdown",
   "metadata": {},
   "source": [
    "base salary: $115K\n",
    "increase rate: 3% or 0.03 yearly"
   ]
  },
  {
   "cell_type": "code",
   "execution_count": 12,
   "metadata": {},
   "outputs": [
    {
     "name": "stdout",
     "output_type": "stream",
     "text": [
      "Calculating Salary for how long you have worked here\n",
      "Years worked:  0 $ 115000.0\n",
      "Years worked:  1 $ 118450.0\n",
      "Years worked:  2 $ 121900.0\n",
      "Years worked:  3 $ 125350.0\n",
      "Years worked:  4 $ 128800.0\n",
      "Years worked:  5 $ 132250.0\n",
      "Years worked:  6 $ 135700.0\n",
      "Years worked:  7 $ 139150.0\n",
      "Years worked:  8 $ 142600.0\n",
      "Years worked:  9 $ 146050.0\n",
      "Years worked:  10 $ 149500.0\n"
     ]
    }
   ],
   "source": [
    "base_salary = 115000\n",
    "increase_rate = 0.03\n",
    "years_worked = 0\n",
    "\n",
    "def get_salary(base_salary, years_worked, increase_rate):\n",
    "    return base_salary + (years_worked * increase_rate * base_salary)\n",
    "\n",
    "print(\"Calculating Salary for how long you have worked here\")\n",
    "\n",
    "print(\"Years worked:  0\", \"$\", get_salary(base_salary, increase_rate, years_worked))\n",
    "for i in range(10):\n",
    "    print(\"Years worked: \", i+1,  \"$\", get_salary(base_salary, increase_rate, i+1))"
   ]
  },
  {
   "cell_type": "code",
   "execution_count": null,
   "metadata": {},
   "outputs": [],
   "source": []
  }
 ],
 "metadata": {
  "kernelspec": {
   "display_name": "Python 3",
   "language": "python",
   "name": "python3"
  },
  "language_info": {
   "codemirror_mode": {
    "name": "ipython",
    "version": 3
   },
   "file_extension": ".py",
   "mimetype": "text/x-python",
   "name": "python",
   "nbconvert_exporter": "python",
   "pygments_lexer": "ipython3",
   "version": "3.7.4"
  }
 },
 "nbformat": 4,
 "nbformat_minor": 2
}
