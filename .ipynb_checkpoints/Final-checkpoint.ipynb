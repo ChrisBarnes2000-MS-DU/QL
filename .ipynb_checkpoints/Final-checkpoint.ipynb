{
 "cells": [
  {
   "cell_type": "markdown",
   "metadata": {},
   "source": [
    "# Final Project: Linear Regression\n",
    "\n",
    "`Print out for each question's answer has been commented out,\n",
    "    They're all bound togther in one print out at the bottom`\n",
    "\n",
    "- We want to present the relationship between (two) variables linearly\n",
    "\n",
    "- We are interested to obtain the best line describing by `y_pred[i] = w_1 x[i] +w_0` that maps running distance to drinking water\n",
    "\n",
    "- Below, list `x` represents running distance in miles and list `y` represents the drinking water in litres "
   ]
  },
  {
   "cell_type": "code",
   "execution_count": 1,
   "metadata": {},
   "outputs": [],
   "source": [
    "import matplotlib.pyplot as plt\n",
    "import seaborn as sns\n",
    "import numpy as np\n",
    "\n",
    "# Running Distance in Mile\n",
    "x = np.array([3.3,4.4,5.5,6.71,6.93,4.168,9.779,6.182,7.59,2.167,7.042,10.791,5.313,7.997,5.654,9.27,3.1])\n",
    "\n",
    "# Water Drinks in Litre\n",
    "y = np.array([1.7,2.76,2.09,3.19,1.694,1.573,3.366,2.596,2.53,1.221,2.827,3.465,1.65,2.904,2.42,2.94,1.3])\n",
    "\n",
    "def print_graph(x, y, tittle):\n",
    "    plt.scatter(x, y, label=tittle)\n",
    "    plt.legend(loc='upper left')\n",
    "    plt.xlabel('Running Distance (Mile)')\n",
    "    plt.ylabel('Water Drinks (Litre)')\n",
    "    \n",
    "print_graph(x, y, \"Data\")"
   ]
  },
  {
   "cell_type": "markdown",
   "metadata": {},
   "source": [
    "## In order to obtain the Line of Best Fit, we should define error first\n",
    "   - For linear relationship, mean-square-error (MSE) represents is it a good line (good model) or not\n",
    "\n",
    "   - $y[i]$ and $y_{pred}[i]$ are i-th element of list `y` and list `y_pred` respectively where `y_pred[i] = w_1 x[i] +w_0`\n",
    "   - Define error as: $E[i] = y_{pred}[i] - y[i]$\n",
    "    \n",
    "   - Define mean-square-error as: $MSE = \\frac{1}{N} \\sum_{i=0}^{N-1} E[i]^2$\n",
    "    \n",
    "   - Also mean-square-error is equal to: $MSE = \\frac{1}{N} \\sum_{i=0}^{N-1} (y_{pred}[i] - y[i])^2$\n",
    "   \n",
    "   - The parameter $N$ is: $N = len(y)$\n",
    "   \n",
    "   ### Question 1: Obtain the MSE for the following two lines:\n",
    "    1- `y_pred[i] = 0.7*x[i] + 0.3`\n",
    "\n",
    "    2- `y_pred[i] = 0.25163494*x[i] + 0.79880123`\n",
    "\n",
    "    Hint: Your function take four input arguments: 1- y, 2- x, 3- slope, 4-intercept\n"
   ]
  },
  {
   "cell_type": "code",
   "execution_count": 2,
   "metadata": {},
   "outputs": [],
   "source": [
    "def min_sq_error(y, x, w1, w0):\n",
    "    y_pred = w1*x + w0\n",
    "    error = y_pred - y\n",
    "    sum_squared_error = np.sum(np.square(error))\n",
    "    N = len(y)\n",
    "    mse = sum_squared_error/N\n",
    "    return mse\n",
    "\n",
    "# print(\"ypred = w0x+w1\")\n",
    "# print(\"or =0.70x+0.30 --> MSE: \",\n",
    "#       min_sq_error(y, x, 0.7, 0.3))\n",
    "# print(\"or =0.25x+0.80 --> MSE: \",\n",
    "#       min_sq_error(y, x, 0.25163494, 0.79880123))"
   ]
  },
  {
   "cell_type": "markdown",
   "metadata": {},
   "source": [
    "## Question 1: Obtain the Line of Best Fit\n",
    "\n",
    "- In order to obtain the Line of Best fit, we want to obtain which slope ($w_1$) and intercept ($w_0$) minimize the mean-square-error (MSE)\n",
    "\n",
    "- Mathematically:\n",
    "\n",
    "    - $MSE = \\frac{1}{N} \\sum_{i=0}^{N-1} (y_{pred}[i] - y[i])^2$ \n",
    "\n",
    "    - $MSE = f(w_1, w_0)= \\frac{1}{N} \\sum_{i=0}^{N-1} (w_1x[i] + w_0 - y[i])^2$ \n",
    "\n",
    "\n",
    "The steps in order to obtain the best line: \n",
    "\n",
    "### 1- Compute $\\frac{\\partial MSE}{\\partial w_1} and \\frac{\\partial MSE}{\\partial w_0}$: \n",
    "1. $\\frac{\\partial MSE}{\\partial w_1} = \\frac{1}{N} \\sum_{i=0}^{N-1} (w_1x[i] + w_0 - y[i])^2$\n",
    "        \n",
    "2. $= \\frac{1}{N} \\sum_{i=0}^{N-1} (2x[i])(w_1x[i] + w_0 - y[i])$ \n",
    "\n",
    "3. $= \\frac{1}{N} \\sum_{i=0}^{N-1} (w_1x[i]^2 + w_0x[i] - y[i]x[i])$\n",
    "\n",
    "Then we need a substitue equation for $w_0$:\n",
    "\n",
    "1. $\\frac{\\partial MSE}{\\partial w_0} = \\frac{2}{N} \\sum_{i=0}^{N-1} (w_1x[i] + w_0 - y[i])$\n",
    "\n",
    "2. $\\frac{\\partial MSE}{\\partial w_0} = \\frac{2}{N}(w_1N\\bar{x} + Nw_0 - N\\bar{y})$\n",
    "\n",
    "3. $\\frac{\\partial MSE}{\\partial w_0} = (w_1\\bar{x} + w_0 - \\bar{y}) = 0$\n",
    "\n",
    "### 2- then obtain $w_0$:\n",
    "$\\frac{\\partial MSE}{\\partial w_0} = 0$\n",
    "\n",
    "$w_0 = \\bar{y} - w_1\\bar{x}$\n",
    "\n",
    "Now we can continue with the first derivation\n",
    "\n",
    "4. $\\frac{\\partial MSE}{\\partial w_1} = \\frac{1}{N} \\sum_{i=0}^{N-1} (w_1x[i]^2 + (\\bar{y}-w_1\\bar{x})x[i] - y[i]x[i])$\n",
    "\n",
    "5. $= \\frac{1}{N} \\sum_{i=0}^{N-1} (\\bar{y}x[i] - y[i]x[i]) + \\frac{1}{N} \\sum_{i=0}^{N-1} (w_1x[i]^2 -w_1\\bar{x}x[i])$\n",
    "\n",
    "6. $\\frac{\\partial MSE}{\\partial w_1} = (\\bar{y}\\bar{x} - \\bar{y}\\bar{x}) + (w_1\\bar{x}^2 -w_1\\bar{x^2}) = 0$\n",
    "\n",
    "### 2- then obtain $w_1$\n",
    "$\\frac{\\partial MSE}{\\partial w_1} = 0$ \n",
    "\n",
    "$w_1 = \\frac{\\bar{x}\\bar{y}-\\bar{xy}}{\\bar{x}^2-\\bar{x^2}}$\n",
    "\n",
    "- For this part, you need to use partial derivative and you use derivative table"
   ]
  },
  {
   "cell_type": "markdown",
   "metadata": {},
   "source": [
    "## Question 3: Write code to return the slope and intercept from given lists x and y\n",
    "\n",
    "- After taking partial derivative of mean-squared-error and setting to zero for both $w_0$ and $w_1$ ($\\frac{\\partial MSE}{\\partial w_0} = 0$ $\\frac{\\partial MSE}{\\partial w_1} = 0$)\n",
    "\n",
    "- $w_1$ = is obtained from list x and list y\n",
    "- $w_0 $ = is obtained from $w_1$, list x and list y\n",
    "- Write a Python function that return $w_1$ and $w_0$ from your calculation on the paper "
   ]
  },
  {
   "cell_type": "code",
   "execution_count": 3,
   "metadata": {},
   "outputs": [],
   "source": [
    "def slope_intercept_LR(x, y):\n",
    "    xBar = np.mean(x)\n",
    "    yBar = np.mean(y)\n",
    "    xyBar = np.mean(x*y)\n",
    "    X2Bar = np.mean(np.square(x))\n",
    "    w1 = ((xBar*yBar) - (xyBar)) / (np.square(xBar)-X2Bar)\n",
    "    w0 = yBar - xBar*w1\n",
    "    print(\"Calculated Best via derivation\")\n",
    "    print(\"Slope Intercept = w1x+w0\")\n",
    "    print(\"where w1: %.4f\" %w1 +\" and w0: %.4f\" %w0)\n",
    "    return w1, w0\n",
    "\n",
    "# slope_intercept_LR(x, y)"
   ]
  },
  {
   "cell_type": "markdown",
   "metadata": {},
   "source": [
    "## Question 4: After obtainng the Line of Best Fit, obtain the variance and mean of error\n",
    "\n",
    "- In Question 1, we obtained the Line of Best Fit\n",
    "- So, we can list the error which its element is: $E[i] = y_{pred}[i] - y[i]$\n",
    "\n",
    "- Write a function that calculate variance and mean of list $E$\n",
    "- Plot the distribution of the error for optimal line"
   ]
  },
  {
   "cell_type": "code",
   "execution_count": 4,
   "metadata": {},
   "outputs": [],
   "source": [
    "def compute_rsquared(x, y, w1, w0, fig_num):\n",
    "    ypred = w1 * x + w0\n",
    "    error = ypred - y\n",
    "    errBar = np.mean(error)\n",
    "    print(\"mean error is: \", \"%.4f\" %errBar)\n",
    "    plt.figure(1)\n",
    "    print_graph(x, ypred, \"w0: %.2f\" %w0 +\" & w1: %.2f\" %w1)\n",
    "    plt.figure(fig_num)\n",
    "    print_graph(x, y, \"Data\")\n",
    "    print_graph(x, ypred, \"Y-prediction\")\n",
    "    plt.plot(x, ypred, ':r')\n",
    "    \n",
    "    plt.figure(fig_num+1)\n",
    "    sns.distplot(error, hist=True, kde=True, bins=5)\n",
    "#     for i, j in enumerate(error):\n",
    "#         print(\"[{}] \\tX: {} \\tY-Prediction: %.4f \\tY: {}\".format(i, x[i], y[i]) %ypred[i])\n",
    "#         print(\"\\tError %.4f\" %j +\"\\tVariance: %.4f\" %(j-errBar))\n",
    "#         print()\n",
    "    \n",
    "    SE_line = np.dot(error.T, error)\n",
    "    SE_y = len(y) * y.var()\n",
    "    \n",
    "    return 1 - SE_line / SE_y\n",
    "\n",
    "# print(\"w1: 0.70, \\tw0: 0.30 \\t--> \\tR_squared: %.4f\" %compute_rsquared(x,y,0.7,0.3, 2))\n",
    "# print(\"w1: 0.25, \\tw0: 0.79 \\t--> \\tR_squared: %.4f\"\n",
    "#       %compute_rsquared(x,y,0.25163494428355315,0.7988012261753947, 3))"
   ]
  },
  {
   "cell_type": "code",
   "execution_count": 5,
   "metadata": {},
   "outputs": [
    {
     "name": "stdout",
     "output_type": "stream",
     "text": [
      "w1: 0.70, \tw0: 0.30 \t--> \tMSE:  6.518593101764704\n",
      "mean error is:  2.2941\n",
      "w1: 0.70, \tw0: 0.30 \t--> \tR_squared: -12.0121\n",
      "\n",
      "w1: 0.25163494, w0: 0.79880123 \t--> \tMSE:  0.15385767404191164\n",
      "mean error is:  0.0000\n",
      "w1: 0.25, \tw0: 0.79 \t--> \tR_squared: 0.6929\n",
      "\n",
      "Calculated Best via derivation\n",
      "Slope Intercept = w1x+w0\n",
      "where w1: 0.2516 and w0: 0.7988\n"
     ]
    },
    {
     "data": {
      "text/plain": [
       "(0.25163494428355315, 0.7988012261753947)"
      ]
     },
     "execution_count": 5,
     "metadata": {},
     "output_type": "execute_result"
    },
    {
     "data": {
      "image/png": "[encoded data removed]",
      "text/plain": [
       "<Figure size 432x288 with 1 Axes>"
      ]
     },
     "metadata": {
      "needs_background": "light"
     },
     "output_type": "display_data"
    },
    {
     "data": {
      "image/png": "[encoded data removed]",
      "text/plain": [
       "<Figure size 432x288 with 1 Axes>"
      ]
     },
     "metadata": {
      "needs_background": "light"
     },
     "output_type": "display_data"
    },
    {
     "data": {
      "image/png": "[encoded data removed]",
      "text/plain": [
       "<Figure size 432x288 with 1 Axes>"
      ]
     },
     "metadata": {
      "needs_background": "light"
     },
     "output_type": "display_data"
    },
    {
     "data": {
      "image/png": "[encoded data removed]",
      "text/plain": [
       "<Figure size 432x288 with 1 Axes>"
      ]
     },
     "metadata": {
      "needs_background": "light"
     },
     "output_type": "display_data"
    },
    {
     "data": {
      "image/png": "[encoded data removed]",
      "text/plain": [
       "<Figure size 432x288 with 1 Axes>"
      ]
     },
     "metadata": {
      "needs_background": "light"
     },
     "output_type": "display_data"
    }
   ],
   "source": [
    "plt.figure(1)\n",
    "print_graph(x, y, \"Data\")\n",
    "print(\"w1: 0.70, \\tw0: 0.30 \\t--> \\tMSE: \", min_sq_error(y, x, 0.7, 0.3))\n",
    "print(\"w1: 0.70, \\tw0: 0.30 \\t--> \\tR_squared: %.4f\" %compute_rsquared(x,y,0.7,0.3, 2))\n",
    "print()\n",
    "print(\"w1: 0.25163494, w0: 0.79880123 \\t--> \\tMSE: \", min_sq_error(y,x,0.25163494,0.79880123))\n",
    "print(\"w1: 0.25, \\tw0: 0.79 \\t--> \\tR_squared: %.4f\"\n",
    "      %compute_rsquared(x,y,0.25163494428355315,0.7988012261753947, 5))\n",
    "\n",
    "print()\n",
    "slope_intercept_LR(x, y)"
   ]
  },
  {
   "cell_type": "markdown",
   "metadata": {},
   "source": [
    "## Question 5: (Optional but Bonus point) In almost all applications, we update the slope and intercept through iteration\n",
    "\n",
    "- Instead of putting the $\\frac{\\partial MSE}{\\partial w_1} = 0$ $\\frac{\\partial MSE}{\\partial w_0} = 0$\n",
    "    - Initialize the $w_1$ and $w_0$ with arbitrary value, then update them by follwing Gradient Updating Rule:\n",
    "    - $w_1 = w_1 - step*\\frac{\\partial MSE}{\\partial w_1}$\n",
    "    - $w_0 = w_0 - step*\\frac{\\partial MSE}{\\partial w_0}$"
   ]
  },
  {
   "cell_type": "code",
   "execution_count": null,
   "metadata": {},
   "outputs": [],
   "source": [
    "#Start with the given x,y data and pick a random position and go to lowest\n",
    "print_graph(x, y, \"Data\")\n",
    "\n",
    "#preview the line we get from our random start\n",
    "# w_1 = np.random.randn()\n",
    "# w_0 = np.random.randn()\n",
    "\n",
    "w1 = np.random.randn()\n",
    "w0 = np.random.randn()\n",
    "\n",
    "# rsq = compute_rsquared(x, y, w1, w0, 10)\n",
    "# print(\"Random w0, w1\\n\"+\n",
    "#         \"\\tw1: %.4f\"%w1 +\", w0: %.4f\"%w0 +\" --> \\tR_squared: %.4f\"%rsq)\n",
    "\n",
    "#Calculations for derivation\n",
    "# x_bar = np.mean(x)\n",
    "# y_bar = np.mean(y) \n",
    "# xy_bar = np.mean([i*j for i, j in zip(x, y)])                  \n",
    "# xx_bar = np.mean([i*i for i in x])\n",
    "\n",
    "xBar = np.mean(x)\n",
    "yBar = np.mean(y)\n",
    "xyBar = np.mean(x*y)\n",
    "X2Bar = np.mean(np.square(x))\n",
    "\n",
    "N = len(y)\n",
    "\n",
    "step = 0.01\n",
    "tolerance = 0.000000001\n",
    "iteration = 0\n",
    "\n",
    "while True if iteration == 0 else np.abs(E2 - E1) >= 0.000000001:\n",
    "    ypred = w1 * x + w0\n",
    "    E1 = min_sq_error((ypred - y), x, w1, w0)\n",
    "\n",
    "    w1 = w1 - 0.01*(w1*X2Bar + w0*xBar-xyBar)  \n",
    "    w0 = w0 - 0.01*(w1*xBar+w0-yBar)\n",
    "\n",
    "    ypred = w1 * x + w0\n",
    "    E2 = min_sq_error((ypred - y), x, w1, w0)\n",
    "    \n",
    "#     y_pred = [w_1*i + w_0 for i in x]\n",
    "#     error  = [(i-j) for i,j in zip(y_pred, y)]\n",
    "#     sum_squared_error = sum([(i-j)**2 for i,j in zip(y_pred, y)])\n",
    "#     E1 = sum_squared_error/N \n",
    "\n",
    "#     w_1 = w_1 - 0.01*(2*w_1*xx_bar + 2*w_0*x_bar-2*xy_bar)\n",
    "#     w_0 = w_0 - 0.01*(2*w_1*x_bar+2*w_0-2*y_bar)  \n",
    "    \n",
    "#     y_pred = [w_1*i + w_0 for i in x]\n",
    "#     error  = [(i-j) for i,j in zip(y_pred, y)]\n",
    "#     sum_squared_error = sum([(i-j)**2 for i,j in zip(y_pred, y)])\n",
    "#     E2 = sum_squared_error/N \n",
    "#     iteration += 1\n",
    "    \n",
    "#     print(iteration, np.abs(E2 - E1) >= tolerance, np.abs(E2 - E1), tolerance)\n",
    "    \n",
    "\n",
    "# print(w1)\n",
    "# print(w0)\n",
    "print(\"Iterations: \", iteration)\n",
    "\n",
    "# rsq = compute_rsquared(x, y, w1, w0, 10)\n",
    "# print(\"lowest \\tw1: %.4f\"%w1 +\", w0: %.4f\"%w0 +\" --> \\tR_squared: %.4f\"%rsq)\n",
    "print(\"lowest \\tw1: %.4f\"%w1 +\", w0: %.4f\"%w0)\n",
    "plt.plot(x, y_pred, ':r')"
   ]
  },
  {
   "cell_type": "markdown",
   "metadata": {},
   "source": [
    "### EXTRA RESEARCH HELP:\n",
    "\n",
    "(https://towardsdatascience.com/linear-regression-cost-function-gradient-descent-normal-equations-1d2a6c878e2c)\n",
    "\n",
    "(https://towardsdatascience.com/linear-regression-derivation-d362ea3884c2)\n",
    "\n",
    "(https://eli.thegreenplace.net/2016/linear-regression/)\n",
    "\n",
    "(https://en.wikipedia.org/wiki/Linear_regression)\n"
   ]
  },
  {
   "cell_type": "code",
   "execution_count": 11,
   "metadata": {},
   "outputs": [
    {
     "name": "stdout",
     "output_type": "stream",
     "text": [
      "LinregressResult(slope=0.25163494428355404, intercept=0.7988012261753894, rvalue=0.8323917528894436, pvalue=3.391952640710616e-05, stderr=0.0432568020417479)\n"
     ]
    }
   ],
   "source": [
    "from scipy import stats\n",
    "\n",
    "print(stats.linregress(x,y))\n"
   ]
  },
  {
   "cell_type": "code",
   "execution_count": null,
   "metadata": {},
   "outputs": [],
   "source": []
  }
 ],
 "metadata": {
  "kernelspec": {
   "display_name": "Python 3",
   "language": "python",
   "name": "python3"
  },
  "language_info": {
   "codemirror_mode": {
    "name": "ipython",
    "version": 3
   },
   "file_extension": ".py",
   "mimetype": "text/x-python",
   "name": "python",
   "nbconvert_exporter": "python",
   "pygments_lexer": "ipython3",
   "version": "3.7.4"
  }
 },
 "nbformat": 4,
 "nbformat_minor": 2
}
