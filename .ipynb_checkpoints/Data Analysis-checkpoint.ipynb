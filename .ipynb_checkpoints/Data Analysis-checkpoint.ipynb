{
 "cells": [
  {
   "cell_type": "markdown",
   "metadata": {},
   "source": [
    "## Function to find Medain Value in a list"
   ]
  },
  {
   "cell_type": "code",
   "execution_count": 39,
   "metadata": {},
   "outputs": [
    {
     "name": "stdout",
     "output_type": "stream",
     "text": [
      "before sort [ 1  3  5  2  3  7  8  4 10  0  6  7  3  0  3  0  5  7 10  1  4  9  3]\n",
      "after sort [ 0  0  0  1  1  2  3  3  3  3  3  4  4  5  5  6  7  7  7  8  9 10 10]\n",
      "size 23\n",
      "index 11\n",
      "list is odd median will be: \n",
      "computed: 4\n",
      "from np: 4.0\n"
     ]
    }
   ],
   "source": [
    "import numpy as np\n",
    "\n",
    "data = np.array([1, 3, 5, 2, 3, 7, 8, 4, 10, 0, 6, 7, 3, 0, 3, 0, 5, 7, 10, 1, 4, 9, 3])\n",
    "\n",
    "# TODO: Complete this function by having the function return the exact true median value of our dataset.\n",
    "# HINT: Consider using DataFrame slicing to help with identifying the correct median value(s).\n",
    "def compute_median(dataset):\n",
    "    \"\"\" Main function that determines the median value across our data. \"\"\"\n",
    "    print(\"before sort {}\".format(dataset))\n",
    "    dataset.sort()\n",
    "    print(\"after sort {}\".format(dataset))\n",
    "    count = len(dataset)\n",
    "    print(\"size {}\".format(count))\n",
    "    index = (count - 1) // 2\n",
    "    print(\"index {}\".format(index))\n",
    "    \n",
    "    if count < 1:\n",
    "        # TODO: Complete this if-statement\n",
    "        print(\"list is lest than 1 returning value: \")\n",
    "        return dataset\n",
    "    elif count % 2 == 1: \n",
    "        # TODO: Complete this if-statement\n",
    "        print(\"list is odd median will be: \")\n",
    "        return dataset[index]\n",
    "    else:\n",
    "        # TODO: Complete this if-else statement\n",
    "        print(\"list is even median will be: \") \n",
    "        #return (np.floor(dataset[index]) + np.ceil(dataset[index])) / 2\n",
    "        return (dataset[index] + dataset[index]) / 2\n",
    "        \n",
    "print(\"computed: {}\".format(compute_median(data)))\n",
    "print(\"from np: {}\".format(np.median(data)))"
   ]
  },
  {
   "cell_type": "markdown",
   "metadata": {},
   "source": [
    "## Function to find Mode of a list"
   ]
  },
  {
   "cell_type": "code",
   "execution_count": 66,
   "metadata": {},
   "outputs": [
    {
     "name": "stdout",
     "output_type": "stream",
     "text": [
      "ModeResult(mode=array([3]), count=array([5]))\n"
     ]
    },
    {
     "data": {
      "text/plain": [
       "'3 : 5'"
      ]
     },
     "execution_count": 66,
     "metadata": {},
     "output_type": "execute_result"
    }
   ],
   "source": [
    "from scipy import stats\n",
    "\n",
    "# NOTE: Tricker than it looks!\n",
    "data = np.array([1, 3, 5, 2, 3, 7, 8, 4, 10, 0, 6, 7, 3, 0, 3, 0, 5, 7, 10, 1, 4, 9, 3])\n",
    "\n",
    "# TODO: Complete this function by having the function return the relative mode across our dataset.\n",
    "# HINT: Remember histograms and tokenization from CS 1.2? How many they help you here? \n",
    "def compute_mode(dataset):\n",
    "    \"\"\" Main function that determines the mode value across our data. \"\"\"\n",
    "    count = {}\n",
    "    \n",
    "    for i in dataset:\n",
    "        count[i] = count.get(i, 0) + 1\n",
    "    \n",
    "    maxdicval = max(count, key=count.get)\n",
    "    print(stats.mode(dataset))\n",
    "    return \"{} : {}\".format(maxdicval, count[maxdicval])\n",
    "\n",
    "compute_mode(data)"
   ]
  },
  {
   "cell_type": "code",
   "execution_count": 102,
   "metadata": {},
   "outputs": [
    {
     "name": "stdout",
     "output_type": "stream",
     "text": [
      "City A smallest: 28\n",
      "City A largest: 36\n",
      "City A range: 8\n",
      "\n",
      "City B smallest: 12\n",
      "City B largest: 55\n",
      "City B range: 43\n",
      "\n",
      "City C smallest: 32\n",
      "City C largest: 32\n",
      "City C range: 0\n",
      "\n",
      "total mean: 32.0\n",
      "varianse: 36.71511950137164\n"
     ]
    }
   ],
   "source": [
    "import pandas as pd\n",
    "import seaborn as sns\n",
    "import matplotlib.pyplot as plt\n",
    "\n",
    "df = pd.DataFrame({'Rainy':[29,28,32,35,36,12,18,30,45,55, 32,32,32,32,32], 'City':['City_A']*5 + ['City_B']*5 + ['City_C']*5})\n",
    "\n",
    "CA_less = min(df['Rainy'][:5])\n",
    "CA_most = max(df[\"Rainy\"][:5])\n",
    "\n",
    "CB_less = min(df['Rainy'][5:])\n",
    "CB_most = max(df[\"Rainy\"][5:])\n",
    "\n",
    "CC_less = min(df['Rainy'][10:])\n",
    "CC_most = max(df[\"Rainy\"][10:])\n",
    "\n",
    "print(\"City A smallest: {}\".format(CA_less))\n",
    "print(\"City A largest: {}\".format(CA_most))\n",
    "print(\"City A range: {}\".format(CA_most-CA_less))\n",
    "print()\n",
    "print(\"City B smallest: {}\".format(CB_less))\n",
    "print(\"City B largest: {}\".format(CB_most))\n",
    "print(\"City B range: {}\".format(CB_most-CB_less))\n",
    "print()\n",
    "print(\"City C smallest: {}\".format(CC_less))\n",
    "print(\"City C largest: {}\".format(CC_most))\n",
    "print(\"City C range: {}\".format(CC_most-CC_less))\n",
    "print()\n",
    "\n",
    "\n",
    "#mean:\n",
    "num = len(df[\"Rainy\"])\n",
    "total = 0\n",
    "for elm in df[\"Rainy\"]:\n",
    "    total += elm\n",
    "mean_val = total/num\n",
    "print(\"total mean: {}\".format(mean_val))\n",
    "\n",
    "deviation_total = 0\n",
    "for elm in df[\"Rainy\"]:\n",
    "    deviation_total += (elm-mean_val)*(elm-mean_val)\n",
    "    \n",
    "deviation = np.sqrt(deviation_total)\n",
    "print(\"varianse: {}\".format(deviation))\n",
    "\n",
    "\n",
    "#np.std(R, \"City_A\")"
   ]
  },
  {
   "cell_type": "code",
   "execution_count": null,
   "metadata": {},
   "outputs": [],
   "source": []
  }
 ],
 "metadata": {
  "kernelspec": {
   "display_name": "Python 3",
   "language": "python",
   "name": "python3"
  },
  "language_info": {
   "codemirror_mode": {
    "name": "ipython",
    "version": 3
   },
   "file_extension": ".py",
   "mimetype": "text/x-python",
   "name": "python",
   "nbconvert_exporter": "python",
   "pygments_lexer": "ipython3",
   "version": "3.7.4"
  }
 },
 "nbformat": 4,
 "nbformat_minor": 2
}
