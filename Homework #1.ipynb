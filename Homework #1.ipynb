{
 "cells": [
  {
   "cell_type": "markdown",
   "metadata": {},
   "source": [
    "## Covariance Mathematically:"
   ]
  },
  {
   "cell_type": "markdown",
   "metadata": {},
   "source": [
    "$ Cov(X,Y)=\\frac{1}{(n-1)}\\sum_{i=1}^{n}{(x[i]-\\bar{x})(y[i]-\\bar{y})} $"
   ]
  },
  {
   "cell_type": "code",
   "execution_count": 1,
   "metadata": {},
   "outputs": [
    {
     "name": "stdout",
     "output_type": "stream",
     "text": [
      "My Calculation\n",
      "[X, \tY, \tZ,\t]\n",
      "[0.0000, 0.0000, 0.0000\t]\n",
      "[0.0000, 1.6667, 1.1667\t]\n",
      "[0.0000, 1.1667, 0.9167\t]\n",
      "\n",
      "\n",
      "Test Against Numpy Calculation\n",
      "[X, \t\tY, \t\tZ]\n",
      "[[0.         0.         0.        ]\n",
      " [0.         1.66666667 1.16666667]\n",
      " [0.         1.16666667 0.91666667]]\n"
     ]
    }
   ],
   "source": [
    "\"\"\"Help From Jess and \n",
    "https://afrozhussain.wordpress.com/2016/01/11/implementation-of-covariance-function-in-python/\"\"\"\n",
    "\n",
    "import csv\n",
    "import numpy as np\n",
    "\n",
    "def cov(x,y):\n",
    "    if len(x) != len(y):\n",
    "        return\n",
    "    n = len(x)\n",
    "    x_bar = np.average(x)\n",
    "    y_bar = np.average(y)\n",
    "    xy = [((x[i]-x_bar)*(y[i]-y_bar)) for i in range(n)]\n",
    "    return sum(xy)/float(n-1)\n",
    "\n",
    "\n",
    "#################PRINT AREA#################\n",
    "x = [1,1,1,1]\n",
    "y = [1,2,3,4]\n",
    "z = [1,1,2,3]\n",
    "\n",
    "# print(\"Covariance XY: \", str(cov(x,y)))\n",
    "# print(\"Covariance XZ: \", str(cov(x,z)))\n",
    "# print(\"Covariance YZ: \", str(cov(y,z)))\n",
    "\n",
    "# print(\"Covariance YX: \", str(cov(y,x)))\n",
    "# print(\"Covariance ZX: \", str(cov(z,x)))\n",
    "# print(\"Covariance ZY: \", str(cov(z,y)))\n",
    "\n",
    "# print(\"Covariance XX: \", str(cov(x,x)))\n",
    "# print(\"Covariance YY: \", str(cov(y,y)))\n",
    "# print(\"Covariance ZZ: \", str(cov(z,z)))\n",
    "\n",
    "print(\"My Calculation\")\n",
    "print(\"\"\"[X, \\tY, \\tZ,\\t]\n",
    "[{}, {}, {}\\t]\n",
    "[{}, {}, {}\\t]\n",
    "[{}, {}, {}\\t]\"\"\"\n",
    ".format(\"%.4f\" %cov(x,x), \"%.4f\" %cov(x,y), \"%.4f\" %cov(x,z),\n",
    "        \"%.4f\" %cov(y,x), \"%.4f\" %cov(y,y), \"%.4f\" %cov(y,z),\n",
    "        \"%.4f\" %cov(z,x), \"%.4f\" %cov(z,y), \"%.4f\" %cov(z,z)))\n",
    "\n",
    "print(\"\\n\\nTest Against Numpy Calculation\")     \n",
    "#This is a test for the output\n",
    "def cov_matrix_calculation(data):\n",
    "    # calculate covariance matrix of the data\n",
    "    cov_matx = np.cov(data.T)\n",
    "    return cov_matx\n",
    "\n",
    "dataset = np.array([[1, 1, 1], [1, 2, 1], [1, 3, 2], [1, 4, 3]])\n",
    "print(\"[X, \\t\\tY, \\t\\tZ]\")\n",
    "print(cov_matrix_calculation(dataset))"
   ]
  },
  {
   "cell_type": "code",
   "execution_count": null,
   "metadata": {},
   "outputs": [],
   "source": []
  }
 ],
 "metadata": {
  "kernelspec": {
   "display_name": "Python 3",
   "language": "python",
   "name": "python3"
  },
  "language_info": {
   "codemirror_mode": {
    "name": "ipython",
    "version": 3
   },
   "file_extension": ".py",
   "mimetype": "text/x-python",
   "name": "python",
   "nbconvert_exporter": "python",
   "pygments_lexer": "ipython3",
   "version": "3.7.4"
  }
 },
 "nbformat": 4,
 "nbformat_minor": 2
}
